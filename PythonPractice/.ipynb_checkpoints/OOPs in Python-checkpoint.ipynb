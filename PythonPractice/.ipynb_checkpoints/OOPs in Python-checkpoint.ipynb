{
 "cells": [
  {
   "cell_type": "markdown",
   "metadata": {},
   "source": [
    "# Object Oriented Programming Language"
   ]
  },
  {
   "cell_type": "markdown",
   "metadata": {},
   "source": [
    "## Classes"
   ]
  },
  {
   "cell_type": "code",
   "execution_count": 4,
   "metadata": {},
   "outputs": [
    {
     "name": "stdout",
     "output_type": "stream",
     "text": [
      "<__main__.Employee object at 0x0000028085EF2A20>\n"
     ]
    }
   ],
   "source": [
    "class Employee:#simple syntax\n",
    "    pass\n",
    "emp1=Employee()#instance of class\n",
    "print(emp1)"
   ]
  },
  {
   "cell_type": "code",
   "execution_count": 3,
   "metadata": {},
   "outputs": [
    {
     "data": {
      "text/plain": [
       "__main__.Employee"
      ]
     },
     "execution_count": 3,
     "metadata": {},
     "output_type": "execute_result"
    }
   ],
   "source": [
    "type(emp1)"
   ]
  },
  {
   "cell_type": "code",
   "execution_count": 13,
   "metadata": {},
   "outputs": [
    {
     "name": "stdout",
     "output_type": "stream",
     "text": [
      "tanu.agrawal@gmail.com\n",
      "anubha.agrawal@gmail.com\n",
      "tanu agrawal\n"
     ]
    }
   ],
   "source": [
    "class Employe:\n",
    "    def __init__(self,first,last):#intialize or constructor\n",
    "        self.first=first #self is instance of class\n",
    "        self.last=last\n",
    "        self.email=first+'.'+last+'@'+'gmail.com'\n",
    "    def fullname(self):\n",
    "        return '{} {}'.format(self.first,self.last)#work for all instance\n",
    "emp1=Employe('tanu','agrawal')#instance is passed automatically\n",
    "emp2=Employe('anubha','agrawal')\n",
    "print(emp1.email)\n",
    "print(emp2.email)\n",
    "print(emp1.fullname())"
   ]
  },
  {
   "cell_type": "code",
   "execution_count": null,
   "metadata": {},
   "outputs": [],
   "source": [
    "class Employe:\n",
    "    def __init__(self,first,last):\n",
    "        self.first=first \n",
    "        self.last=last\n",
    "        self.email=first+'.'+last+'@'+'gmail.com'\n",
    "    def fullname():\n",
    "        return '{} {}'.format(self.first,self.last)\n",
    "emp1=Employe('tanu','agrawal')#instance is passed automatically\n",
    "emp2=Employe('anubha','agrawal')\n",
    "print(emp1.email)\n",
    "print(emp2.email)\n",
    "print(emp1.fullname())   #will give type error as it is automatically take self instance as parameter "
   ]
  },
  {
   "cell_type": "code",
   "execution_count": 23,
   "metadata": {},
   "outputs": [
    {
     "name": "stdout",
     "output_type": "stream",
     "text": [
      "tanu agrawal\n"
     ]
    }
   ],
   "source": [
    "print(Employe.fullname(emp1)) # accesing through class\n",
    "# will work like emp1=emp1.fullname() but the above one must have argument "
   ]
  },
  {
   "cell_type": "code",
   "execution_count": 29,
   "metadata": {},
   "outputs": [
    {
     "name": "stdout",
     "output_type": "stream",
     "text": [
      "50000\n"
     ]
    },
    {
     "ename": "NameError",
     "evalue": "name 'raiseamount' is not defined",
     "output_type": "error",
     "traceback": [
      "\u001b[1;31m---------------------------------------------------------------------------\u001b[0m",
      "\u001b[1;31mNameError\u001b[0m                                 Traceback (most recent call last)",
      "\u001b[1;32m<ipython-input-29-5553cf6d6ce6>\u001b[0m in \u001b[0;36m<module>\u001b[1;34m()\u001b[0m\n\u001b[0;32m     13\u001b[0m \u001b[0memp2\u001b[0m\u001b[1;33m=\u001b[0m\u001b[0mEmploye\u001b[0m\u001b[1;33m(\u001b[0m\u001b[1;34m'anubha'\u001b[0m\u001b[1;33m,\u001b[0m\u001b[1;34m'agrawal'\u001b[0m\u001b[1;33m)\u001b[0m\u001b[1;33m\u001b[0m\u001b[0m\n\u001b[0;32m     14\u001b[0m \u001b[0mprint\u001b[0m\u001b[1;33m(\u001b[0m\u001b[0memp1\u001b[0m\u001b[1;33m.\u001b[0m\u001b[0mpay\u001b[0m\u001b[1;33m)\u001b[0m\u001b[1;33m\u001b[0m\u001b[0m\n\u001b[1;32m---> 15\u001b[1;33m \u001b[0memp1\u001b[0m\u001b[1;33m.\u001b[0m\u001b[0mraise_amount\u001b[0m\u001b[1;33m(\u001b[0m\u001b[1;33m)\u001b[0m\u001b[1;33m\u001b[0m\u001b[0m\n\u001b[0m",
      "\u001b[1;32m<ipython-input-29-5553cf6d6ce6>\u001b[0m in \u001b[0;36mraise_amount\u001b[1;34m(self)\u001b[0m\n\u001b[0;32m      9\u001b[0m         \u001b[1;32mreturn\u001b[0m \u001b[1;34m'{} {}'\u001b[0m\u001b[1;33m.\u001b[0m\u001b[0mformat\u001b[0m\u001b[1;33m(\u001b[0m\u001b[0mself\u001b[0m\u001b[1;33m.\u001b[0m\u001b[0mfirst\u001b[0m\u001b[1;33m,\u001b[0m\u001b[0mself\u001b[0m\u001b[1;33m.\u001b[0m\u001b[0mlast\u001b[0m\u001b[1;33m)\u001b[0m\u001b[1;33m\u001b[0m\u001b[0m\n\u001b[0;32m     10\u001b[0m     \u001b[1;32mdef\u001b[0m \u001b[0mraise_amount\u001b[0m\u001b[1;33m(\u001b[0m\u001b[0mself\u001b[0m\u001b[1;33m)\u001b[0m\u001b[1;33m:\u001b[0m\u001b[1;33m\u001b[0m\u001b[0m\n\u001b[1;32m---> 11\u001b[1;33m         \u001b[1;32mreturn\u001b[0m \u001b[1;33m(\u001b[0m\u001b[0mself\u001b[0m\u001b[1;33m.\u001b[0m\u001b[0mpay\u001b[0m\u001b[1;33m*\u001b[0m\u001b[0mraiseamount\u001b[0m\u001b[1;33m)\u001b[0m\u001b[1;33m\u001b[0m\u001b[0m\n\u001b[0m\u001b[0;32m     12\u001b[0m \u001b[0memp1\u001b[0m\u001b[1;33m=\u001b[0m\u001b[0mEmploye\u001b[0m\u001b[1;33m(\u001b[0m\u001b[1;34m'tanu'\u001b[0m\u001b[1;33m,\u001b[0m\u001b[1;34m'agrawal'\u001b[0m\u001b[1;33m)\u001b[0m\u001b[1;31m#instance is passed automatically\u001b[0m\u001b[1;33m\u001b[0m\u001b[0m\n\u001b[0;32m     13\u001b[0m \u001b[0memp2\u001b[0m\u001b[1;33m=\u001b[0m\u001b[0mEmploye\u001b[0m\u001b[1;33m(\u001b[0m\u001b[1;34m'anubha'\u001b[0m\u001b[1;33m,\u001b[0m\u001b[1;34m'agrawal'\u001b[0m\u001b[1;33m)\u001b[0m\u001b[1;33m\u001b[0m\u001b[0m\n",
      "\u001b[1;31mNameError\u001b[0m: name 'raiseamount' is not defined"
     ]
    }
   ],
   "source": [
    "class Employe:\n",
    "    raiseamount=1.04\n",
    "    def __init__(self,first,last):\n",
    "        self.first=first \n",
    "        self.last=last\n",
    "        self.email=first+'.'+last+'@'+'gmail.com'\n",
    "        self.pay=50000\n",
    "    def fullname(self):\n",
    "        return '{} {}'.format(self.first,self.last)\n",
    "    def raise_amount(self):\n",
    "        return (self.pay*raiseamount)\n",
    "emp1=Employe('tanu','agrawal')#instance is passed automatically\n",
    "emp2=Employe('anubha','agrawal')\n",
    "print(emp1.pay)\n",
    "emp1.raise_amount()"
   ]
  },
  {
   "cell_type": "markdown",
   "metadata": {},
   "source": [
    "###### regular method"
   ]
  },
  {
   "cell_type": "code",
   "execution_count": 32,
   "metadata": {},
   "outputs": [
    {
     "name": "stdout",
     "output_type": "stream",
     "text": [
      "50000\n"
     ]
    },
    {
     "data": {
      "text/plain": [
       "52000.0"
      ]
     },
     "execution_count": 32,
     "metadata": {},
     "output_type": "execute_result"
    }
   ],
   "source": [
    "#above code gives name error as to access classvariable we have to access them using class itself or using instance of class\n",
    "class Employe:\n",
    "    raiseamount=1.04\n",
    "    def __init__(self,first,last):\n",
    "        self.first=first \n",
    "        self.last=last\n",
    "        self.email=first+'.'+last+'@'+'gmail.com'\n",
    "        self.pay=50000\n",
    "    def fullname(self):\n",
    "        return '{} {}'.format(self.first,self.last)\n",
    "    def raise_amount(self):\n",
    "        return (self.pay*self.raiseamount)#accessed through instance of class\n",
    "emp1=Employe('tanu','agrawal')#instance is passed automatically\n",
    "emp2=Employe('anubha','agrawal')\n",
    "print(emp1.pay)\n",
    "emp1.raise_amount()"
   ]
  },
  {
   "cell_type": "code",
   "execution_count": 51,
   "metadata": {},
   "outputs": [
    {
     "name": "stdout",
     "output_type": "stream",
     "text": [
      "50000\n"
     ]
    },
    {
     "data": {
      "text/plain": [
       "52000.0"
      ]
     },
     "execution_count": 51,
     "metadata": {},
     "output_type": "execute_result"
    }
   ],
   "source": [
    "class Employee:\n",
    "    raiseamount=1.04\n",
    "    no_of_employee=0\n",
    "    def __init__(self,first,last):\n",
    "        self.first=first \n",
    "        self.last=last\n",
    "        self.email=first+'.'+last+'@'+'gmail.com'\n",
    "        self.pay=50000\n",
    "        Employee.no_of_employee+=1\n",
    "    def fullname(self):\n",
    "        return '{} {}'.format(self.first,self.last)\n",
    "    def raise_amount(self):\n",
    "        return (self.pay*self.raiseamount)\n",
    "emp1=Employee('tanu','agrawal')\n",
    "emp2=Employee('anubha','agrawal')\n",
    "print(emp1.pay)\n",
    "emp1.raise_amount()"
   ]
  },
  {
   "cell_type": "code",
   "execution_count": 34,
   "metadata": {},
   "outputs": [
    {
     "name": "stdout",
     "output_type": "stream",
     "text": [
      "{'first': 'tanu', 'last': 'agrawal', 'email': 'tanu.agrawal@gmail.com', 'pay': 50000}\n"
     ]
    }
   ],
   "source": [
    "print(emp1.__dict__) # raise amount is not an attribute"
   ]
  },
  {
   "cell_type": "code",
   "execution_count": 35,
   "metadata": {},
   "outputs": [
    {
     "name": "stdout",
     "output_type": "stream",
     "text": [
      "{'__module__': '__main__', 'raiseamount': 1.04, '__init__': <function Employe.__init__ at 0x000001C695DF51E0>, 'fullname': <function Employe.fullname at 0x000001C695DF5510>, 'raise_amount': <function Employe.raise_amount at 0x000001C695DF5158>, '__dict__': <attribute '__dict__' of 'Employe' objects>, '__weakref__': <attribute '__weakref__' of 'Employe' objects>, '__doc__': None}\n"
     ]
    }
   ],
   "source": [
    "print(Employee.__dict__)"
   ]
  },
  {
   "cell_type": "code",
   "execution_count": 36,
   "metadata": {},
   "outputs": [],
   "source": [
    "Employee.raiseamount=1.05"
   ]
  },
  {
   "cell_type": "code",
   "execution_count": 52,
   "metadata": {},
   "outputs": [
    {
     "name": "stdout",
     "output_type": "stream",
     "text": [
      "52000.0\n",
      "1.04\n",
      "1.04\n"
     ]
    }
   ],
   "source": [
    "print(emp1.raise_amount())\n",
    "print(emp1.raiseamount)\n",
    "print(Employee.raiseamount)# now value of raise amount has been changed"
   ]
  },
  {
   "cell_type": "code",
   "execution_count": 53,
   "metadata": {},
   "outputs": [
    {
     "name": "stdout",
     "output_type": "stream",
     "text": [
      "1.06\n",
      "1.04\n",
      "1.04\n",
      "53000.0\n"
     ]
    }
   ],
   "source": [
    "emp1.raiseamount=1.06\n",
    "print(emp1.raiseamount)#raise amount changed\n",
    "print(Employee.raiseamount)#remain same\n",
    "print(emp2.raiseamount)#reamin same\n",
    "print(emp1.raise_amount())#calculated using changed value"
   ]
  },
  {
   "cell_type": "code",
   "execution_count": 50,
   "metadata": {},
   "outputs": [
    {
     "name": "stdout",
     "output_type": "stream",
     "text": [
      "{'first': 'tanu', 'last': 'agrawal', 'email': 'tanu.agrawal@gmail.com', 'pay': 50000, 'raiseamount': 1.06}\n"
     ]
    }
   ],
   "source": [
    "print(emp1.__dict__) #contain raise amount also in the list"
   ]
  },
  {
   "cell_type": "code",
   "execution_count": 54,
   "metadata": {},
   "outputs": [
    {
     "name": "stdout",
     "output_type": "stream",
     "text": [
      "2\n"
     ]
    }
   ],
   "source": [
    "print(Employee.no_of_employee)"
   ]
  },
  {
   "cell_type": "code",
   "execution_count": 60,
   "metadata": {},
   "outputs": [
    {
     "name": "stdout",
     "output_type": "stream",
     "text": [
      "1.04\n",
      "1.04\n"
     ]
    }
   ],
   "source": [
    "class Employee:\n",
    "    raiseamount=1.04\n",
    "    no_of_employee=0\n",
    "    def __init__(self,first,last):\n",
    "        self.first=first \n",
    "        self.last=last\n",
    "        self.email=first+'.'+last+'@'+'gmail.com'\n",
    "        self.pay=50000\n",
    "        Employee.no_of_employee+=1\n",
    "    def fullname(self):\n",
    "        return '{} {}'.format(self.first,self.last)\n",
    "    def raise_amount(self):\n",
    "        return (self.pay*self.raiseamount)\n",
    "    @classmethod\n",
    "    def set_raise(cls,amount): #it take class(cls) as a parameter instead of instance(self)\n",
    "        cls.raiseamount=amount\n",
    "       \n",
    "emp1=Employee('tanu','agrawal')\n",
    "emp2=Employee('anubha','agrawal')\n",
    "print(Employee.raiseamount)\n",
    "print(emp1.raiseamount)"
   ]
  },
  {
   "cell_type": "code",
   "execution_count": 61,
   "metadata": {},
   "outputs": [
    {
     "name": "stdout",
     "output_type": "stream",
     "text": [
      "1.05\n",
      "1.05\n"
     ]
    }
   ],
   "source": [
    "Employee.set_raise(1.05)#changes to 1.05 because it calls classmethod and is now dealing with class\n",
    "print(Employee.raiseamount)\n",
    "print(emp1.raiseamount)"
   ]
  },
  {
   "cell_type": "markdown",
   "metadata": {},
   "source": [
    "###### class method"
   ]
  },
  {
   "cell_type": "code",
   "execution_count": 63,
   "metadata": {},
   "outputs": [
    {
     "name": "stdout",
     "output_type": "stream",
     "text": [
      "harsh.agrawal@gmail.com\n"
     ]
    }
   ],
   "source": [
    "class Employee:\n",
    "    raiseamount=1.04\n",
    "    no_of_employee=0\n",
    "    def __init__(self,first,last,pay):\n",
    "        self.first=first \n",
    "        self.last=last\n",
    "        self.email=first+'.'+last+'@'+'gmail.com'\n",
    "        self.pay=pay\n",
    "        Employee.no_of_employee+=1\n",
    "    def fullname(self):\n",
    "        return '{} {}'.format(self.first,self.last)\n",
    "    def raise_amount(self):\n",
    "        return (self.pay*self.raiseamount)\n",
    "    @classmethod\n",
    "    def set_raise(cls,amount): #it take class(cls) as a parameter instead of instance(self)\n",
    "        cls.raiseamount=amount\n",
    "    @classmethod    \n",
    "    def using_string(cls,emp_str):\n",
    "        first,last,pay=emp_str.split('-')\n",
    "        return cls(first,last,pay)\n",
    "    \n",
    "       \n",
    "emp1=Employee('tanu','agrawal',50000)\n",
    "emp2=Employee('anubha','agrawal',60000)\n",
    "emp_str='harsh-agrawal-70000'\n",
    "n_emp_str=Employee.using_string(emp_str)\n",
    "print(n_emp_str.email)"
   ]
  },
  {
   "cell_type": "markdown",
   "metadata": {},
   "source": [
    "###### static method"
   ]
  },
  {
   "cell_type": "code",
   "execution_count": 65,
   "metadata": {},
   "outputs": [
    {
     "name": "stdout",
     "output_type": "stream",
     "text": [
      "True\n"
     ]
    }
   ],
   "source": [
    "class Employee:\n",
    "    raiseamount=1.04\n",
    "    no_of_employee=0\n",
    "    def __init__(self,first,last,pay):\n",
    "        self.first=first \n",
    "        self.last=last\n",
    "        self.email=first+'.'+last+'@'+'gmail.com'\n",
    "        self.pay=pay\n",
    "        Employee.no_of_employee+=1\n",
    "    def fullname(self):\n",
    "        return '{} {}'.format(self.first,self.last)\n",
    "    def raise_amount(self):\n",
    "        return (self.pay*self.raiseamount)\n",
    "    @classmethod\n",
    "    def set_raise(cls,amount): #it take class(cls) as a parameter instead of instance(self)\n",
    "        cls.raiseamount=amount\n",
    "    @classmethod    \n",
    "    def using_string(cls,emp_str):\n",
    "        first,last,pay=emp_str.split('-')\n",
    "        return cls(first,last,pay)\n",
    "    def date_time(day):                           #static method\n",
    "        if day==5 or day==6:\n",
    "            return False\n",
    "        return True\n",
    "    \n",
    "import datetime\n",
    "my_date=datetime.date(2018,11,17)\n",
    "print(Employee.date_time(my_date))\n",
    "\n",
    "       \n",
    "emp1=Employee('tanu','agrawal',50000)\n",
    "emp2=Employee('anubha','agrawal',60000)\n"
   ]
  },
  {
   "cell_type": "markdown",
   "metadata": {},
   "source": [
    "## Inheritance\n"
   ]
  },
  {
   "cell_type": "code",
   "execution_count": 30,
   "metadata": {},
   "outputs": [
    {
     "name": "stdout",
     "output_type": "stream",
     "text": [
      "tanu.agrawal@gmail.com\n",
      "50000\n",
      "55000.00000000001\n"
     ]
    }
   ],
   "source": [
    "class Employee:\n",
    "    raiseamount=1.04\n",
    "    no_of_employee=0\n",
    "    def __init__(self,first,last):\n",
    "        self.first=first \n",
    "        self.last=last\n",
    "        self.email=first+'.'+last+'@'+'gmail.com'\n",
    "        self.pay=50000\n",
    "        Employee.no_of_employee+=1\n",
    "    def fullname(self):\n",
    "        return '{} {}'.format(self.first,self.last)\n",
    "    def raise_amount(self):\n",
    "        return (self.pay*self.raiseamount)\n",
    "\n",
    "class developers(Employee):#here Employee is base class and developers is a child class\n",
    "    raiseamount=1.10\n",
    "  \n",
    "\n",
    "info_1=developers('tanu','agrawal') # inheriting meyhod from base class employee\n",
    "print(info_1.email)\n",
    "print(info_1.pay)\n",
    "print(info_1.raise_amount()) # taking the value of raiseamount =1.10(i.e of base class) acoording to method resolution order\n",
    "\n"
   ]
  },
  {
   "cell_type": "code",
   "execution_count": 4,
   "metadata": {},
   "outputs": [
    {
     "name": "stdout",
     "output_type": "stream",
     "text": [
      "Help on class developers in module __main__:\n",
      "\n",
      "class developers(Employee)\n",
      " |  developers(first, last)\n",
      " |  \n",
      " |  Method resolution order:\n",
      " |      developers\n",
      " |      Employee\n",
      " |      builtins.object\n",
      " |  \n",
      " |  Methods inherited from Employee:\n",
      " |  \n",
      " |  __init__(self, first, last)\n",
      " |      Initialize self.  See help(type(self)) for accurate signature.\n",
      " |  \n",
      " |  fullname(self)\n",
      " |  \n",
      " |  raise_amount(self)\n",
      " |  \n",
      " |  ----------------------------------------------------------------------\n",
      " |  Data descriptors inherited from Employee:\n",
      " |  \n",
      " |  __dict__\n",
      " |      dictionary for instance variables (if defined)\n",
      " |  \n",
      " |  __weakref__\n",
      " |      list of weak references to the object (if defined)\n",
      " |  \n",
      " |  ----------------------------------------------------------------------\n",
      " |  Data and other attributes inherited from Employee:\n",
      " |  \n",
      " |  no_of_employee = 1\n",
      " |  \n",
      " |  raiseamount = 1.04\n",
      "\n",
      "None\n"
     ]
    }
   ],
   "source": [
    "print(help(developers))"
   ]
  },
  {
   "cell_type": "markdown",
   "metadata": {},
   "source": [
    "### effective use of dry principle"
   ]
  },
  {
   "cell_type": "code",
   "execution_count": 31,
   "metadata": {},
   "outputs": [
    {
     "name": "stdout",
     "output_type": "stream",
     "text": [
      "tanu.agrawal@gmail.com\n",
      "python\n"
     ]
    }
   ],
   "source": [
    "class developers(Employee):#here Employee is base class and developers is a child class\n",
    "    raiseamount=1.10\n",
    "    def __init__(self, first, last, prog_lang):\n",
    "        super().__init__(first, last)  # or Employee().__init__(self,first,last)\n",
    "        self.prog_lang=prog_lang\n",
    "info=developers('tanu','agrawal','python')\n",
    "info2=developers('anubha', 'agrawal', 'java')\n",
    "print(info.email)#method inherit from base class\n",
    "print(info.prog_lang) # from child class"
   ]
  },
  {
   "cell_type": "code",
   "execution_count": 50,
   "metadata": {},
   "outputs": [
    {
     "name": "stdout",
     "output_type": "stream",
     "text": [
      "harsh.agrawal@gmail.com\n",
      "tanu agrawal\n",
      "anubha agrawal\n"
     ]
    }
   ],
   "source": [
    "class managers(Employee):\n",
    "    def __init__(self, first, last, employees=None): # cann't pass mutable object\n",
    "        super().__init__(first,last)\n",
    "       \n",
    "        if employees is None:\n",
    "            self.employees=[]\n",
    "        else:\n",
    "            self.employees=employees\n",
    "    def add_emp(self, emp):\n",
    "        if emp not in self.employees:\n",
    "            self.employees.append(emp)\n",
    "    def remove_emp(self, emp):\n",
    "        if emp in self.employees:\n",
    "            self.employees.remove(emp)\n",
    "    def print_emp(self):\n",
    "        for emp in self.employees:\n",
    "            print(emp.fullname())\n",
    "            \n",
    "mng1=managers('harsh', 'agrawal',[info])\n",
    "mng1.add_emp(info2)\n",
    "\n",
    "print(mng1.email)\n",
    "mng1.print_emp() # represent developers of a particular manager\n",
    "\n",
    "\n",
    "        \n",
    "            \n",
    "            \n",
    "    "
   ]
  },
  {
   "cell_type": "code",
   "execution_count": 51,
   "metadata": {},
   "outputs": [],
   "source": [
    "mng1.remove_emp(info)"
   ]
  },
  {
   "cell_type": "code",
   "execution_count": 53,
   "metadata": {},
   "outputs": [
    {
     "name": "stdout",
     "output_type": "stream",
     "text": [
      "anubha agrawal\n"
     ]
    }
   ],
   "source": [
    "mng1.print_emp()"
   ]
  },
  {
   "cell_type": "markdown",
   "metadata": {},
   "source": [
    "##### isinstance and issubclass method"
   ]
  },
  {
   "cell_type": "code",
   "execution_count": 54,
   "metadata": {},
   "outputs": [
    {
     "name": "stdout",
     "output_type": "stream",
     "text": [
      "True\n"
     ]
    }
   ],
   "source": [
    "print(isinstance(mng1, managers))# check mng1 is instance of managers class\n"
   ]
  },
  {
   "cell_type": "code",
   "execution_count": 55,
   "metadata": {},
   "outputs": [
    {
     "name": "stdout",
     "output_type": "stream",
     "text": [
      "True\n"
     ]
    }
   ],
   "source": [
    "print(isinstance(mng1, Employee))"
   ]
  },
  {
   "cell_type": "code",
   "execution_count": 56,
   "metadata": {},
   "outputs": [
    {
     "name": "stdout",
     "output_type": "stream",
     "text": [
      "False\n"
     ]
    }
   ],
   "source": [
    "print(isinstance(mng1, developers))"
   ]
  },
  {
   "cell_type": "code",
   "execution_count": 58,
   "metadata": {},
   "outputs": [
    {
     "name": "stdout",
     "output_type": "stream",
     "text": [
      "True\n"
     ]
    }
   ],
   "source": [
    "print(issubclass(managers, Employee))# check managers is suclass of Employee"
   ]
  },
  {
   "cell_type": "code",
   "execution_count": 59,
   "metadata": {},
   "outputs": [
    {
     "name": "stdout",
     "output_type": "stream",
     "text": [
      "False\n"
     ]
    }
   ],
   "source": [
    "print(issubclass(managers, developers))"
   ]
  },
  {
   "cell_type": "code",
   "execution_count": null,
   "metadata": {},
   "outputs": [],
   "source": []
  }
 ],
 "metadata": {
  "kernelspec": {
   "display_name": "Python 3",
   "language": "python",
   "name": "python3"
  },
  "language_info": {
   "codemirror_mode": {
    "name": "ipython",
    "version": 3
   },
   "file_extension": ".py",
   "mimetype": "text/x-python",
   "name": "python",
   "nbconvert_exporter": "python",
   "pygments_lexer": "ipython3",
   "version": "3.7.0"
  }
 },
 "nbformat": 4,
 "nbformat_minor": 2
}
