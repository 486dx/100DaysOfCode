{
 "cells": [
  {
   "cell_type": "markdown",
   "metadata": {},
   "source": [
    "## closures"
   ]
  },
  {
   "cell_type": "code",
   "execution_count": 3,
   "metadata": {},
   "outputs": [
    {
     "name": "stdout",
     "output_type": "stream",
     "text": [
      "hi\n"
     ]
    }
   ],
   "source": [
    "def outer_function(message):     #simple function within the function\n",
    "    def inner_function():\n",
    "        print(message)\n",
    "    return inner_function()\n",
    "outer_function(\"hi\")"
   ]
  },
  {
   "cell_type": "code",
   "execution_count": 4,
   "metadata": {},
   "outputs": [
    {
     "data": {
      "text/plain": [
       "<function __main__.outer_function.<locals>.inner_function()>"
      ]
     },
     "execution_count": 4,
     "metadata": {},
     "output_type": "execute_result"
    }
   ],
   "source": [
    "def outer_function(message):    \n",
    "    def inner_function():\n",
    "        print(message)\n",
    "    return inner_function\n",
    "outer_function(\"hi\")   # as it is simpliy return inner_function which has accessed to outerfunction variables"
   ]
  },
  {
   "cell_type": "code",
   "execution_count": 7,
   "metadata": {},
   "outputs": [
    {
     "name": "stdout",
     "output_type": "stream",
     "text": [
      "hi\n"
     ]
    }
   ],
   "source": [
    "def outer_function(message):    #inner_function remembers values in enclosing scopes even if outer_function stop executing....(closure function) \n",
    "    def inner_function():\n",
    "        print(message)\n",
    "    return inner_function\n",
    "myfunc=outer_function(\"hi\")\n",
    "myfunc()#repreent inner_funcrion"
   ]
  },
  {
   "cell_type": "code",
   "execution_count": 11,
   "metadata": {},
   "outputs": [
    {
     "name": "stdout",
     "output_type": "stream",
     "text": [
      "hiTanu\n",
      "hianubha\n"
     ]
    }
   ],
   "source": [
    "def outer_function(message):   \n",
    "    def inner_function(name):\n",
    "        print(message + name)\n",
    "    return inner_function\n",
    "myfunc=outer_function(\"hi\")\n",
    "myfunc(\"Tanu\")\n",
    "#repreent inner_funcrion\n",
    "myfunc(\"anubha\")#with arguments"
   ]
  },
  {
   "cell_type": "markdown",
   "metadata": {},
   "source": [
    "# Decorators"
   ]
  },
  {
   "cell_type": "markdown",
   "metadata": {},
   "source": [
    "#### it allow us to wrap another function in order to extend the behavior of wrapped function, without permanently modifying it."
   ]
  },
  {
   "cell_type": "code",
   "execution_count": 17,
   "metadata": {},
   "outputs": [
    {
     "name": "stdout",
     "output_type": "stream",
     "text": [
      "hi we are learning decorators\n"
     ]
    }
   ],
   "source": [
    "def decorator_function(original_function):\n",
    "    def wrapper_function():\n",
    "        return original_function()\n",
    "    return wrapper_function\n",
    "def display():\n",
    "    print(\"hi we are learning decorators\")\n",
    "decorator_display=decorator_function(display)#display is taken as the argument into decorator_function and then called inside the wrapper_function.\n",
    "\n",
    "\n",
    "decorator_display()\n",
    "    "
   ]
  },
  {
   "cell_type": "code",
   "execution_count": 20,
   "metadata": {},
   "outputs": [
    {
     "name": "stdout",
     "output_type": "stream",
     "text": [
      "hi we are learning decorators\n"
     ]
    }
   ],
   "source": [
    "#actual syntax\n",
    "def decorator_function(original_function):\n",
    "    def wrapper_function():\n",
    "        return original_function()\n",
    "    return wrapper_function\n",
    "@decorator_function# it is eqivalent to below commented line\n",
    "def display():\n",
    "    print(\"hi we are learning decorators\")\n",
    "#display=decorator_function(display) \n",
    "\n",
    "\n",
    "display()"
   ]
  },
  {
   "cell_type": "code",
   "execution_count": 24,
   "metadata": {},
   "outputs": [
    {
     "name": "stdout",
     "output_type": "stream",
     "text": [
      "hi we are learning decorators\n",
      "hi my name is harsh and age is 16\n"
     ]
    }
   ],
   "source": [
    "\n",
    "def decorator_function(original_function):\n",
    "    def wrapper_function(*args):\n",
    "        return original_function(*args)\n",
    "    return wrapper_function\n",
    "@decorator_function\n",
    "def display():\n",
    "    print(\"hi we are learning decorators\")\n",
    "#display=decorator_function(display) \n",
    "\n",
    "\n",
    "display()\n",
    "@decorator_function\n",
    "def display(name,age):\n",
    "    print(\"hi my name is \"+name+\" and age is \"+str(age))\n",
    "display(\"harsh\",16)    \n"
   ]
  },
  {
   "cell_type": "code",
   "execution_count": null,
   "metadata": {},
   "outputs": [],
   "source": []
  }
 ],
 "metadata": {
  "kernelspec": {
   "display_name": "Python 3",
   "language": "python",
   "name": "python3"
  },
  "language_info": {
   "codemirror_mode": {
    "name": "ipython",
    "version": 3
   },
   "file_extension": ".py",
   "mimetype": "text/x-python",
   "name": "python",
   "nbconvert_exporter": "python",
   "pygments_lexer": "ipython3",
   "version": "3.7.0"
  }
 },
 "nbformat": 4,
 "nbformat_minor": 2
}
