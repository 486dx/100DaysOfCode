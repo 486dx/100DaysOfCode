{
 "cells": [
  {
   "cell_type": "markdown",
   "metadata": {},
   "source": [
    "# OS Module"
   ]
  },
  {
   "cell_type": "code",
   "execution_count": 1,
   "metadata": {},
   "outputs": [],
   "source": [
    "import os     #The OS module in python provides functions for interacting with the OS. This module provides a portable way of using OS dependent functionality"
   ]
  },
  {
   "cell_type": "code",
   "execution_count": 2,
   "metadata": {},
   "outputs": [
    {
     "name": "stdout",
     "output_type": "stream",
     "text": [
      "nt\n"
     ]
    }
   ],
   "source": [
    "print(os.name) ##doubt"
   ]
  },
  {
   "cell_type": "code",
   "execution_count": 3,
   "metadata": {},
   "outputs": [
    {
     "name": "stdout",
     "output_type": "stream",
     "text": [
      "C:\\Users\\tanu agrawal\\Desktop\\100daysofcode\\PythonPractice\n"
     ]
    }
   ],
   "source": [
    "print(os.getcwd())    #returns the Current Working directory"
   ]
  },
  {
   "cell_type": "code",
   "execution_count": 11,
   "metadata": {},
   "outputs": [
    {
     "name": "stdout",
     "output_type": "stream",
     "text": [
      "['.ipynb_checkpoints', 'Basic_Python.ipynb', 'filehandling.ipynb', 'iterables.ipynb', 'OS Module.ipynb', 'pic.png', 'pic_copy.png', 'regular expression.ipynb', 'root.py', 'root1.py', 'text', 'text.txt', 'text1.txt', 'text_copy.txt', 'word2.py', 'words.py', '__pycache__']\n"
     ]
    }
   ],
   "source": [
    "print(os.listdir())# to list files and foler in current directory\n"
   ]
  },
  {
   "cell_type": "code",
   "execution_count": 13,
   "metadata": {},
   "outputs": [],
   "source": [
    "os.makedirs('top_level\\inner_level')# make directory at top and inner level also"
   ]
  },
  {
   "cell_type": "code",
   "execution_count": 14,
   "metadata": {},
   "outputs": [
    {
     "name": "stdout",
     "output_type": "stream",
     "text": [
      "['.ipynb_checkpoints', 'Basic_Python.ipynb', 'filehandling.ipynb', 'iterables.ipynb', 'OS Module.ipynb', 'pic.png', 'pic_copy.png', 'regular expression.ipynb', 'root.py', 'root1.py', 'text', 'text.txt', 'text1.txt', 'text_copy.txt', 'top_level', 'word2.py', 'words.py', '__pycache__']\n"
     ]
    }
   ],
   "source": [
    "print(os.listdir())"
   ]
  },
  {
   "cell_type": "code",
   "execution_count": 16,
   "metadata": {},
   "outputs": [],
   "source": [
    "os.removedirs('top_level\\inner_level')"
   ]
  },
  {
   "cell_type": "code",
   "execution_count": 17,
   "metadata": {},
   "outputs": [
    {
     "name": "stdout",
     "output_type": "stream",
     "text": [
      "['.ipynb_checkpoints', 'Basic_Python.ipynb', 'filehandling.ipynb', 'iterables.ipynb', 'OS Module.ipynb', 'pic.png', 'pic_copy.png', 'regular expression.ipynb', 'root.py', 'root1.py', 'text', 'text.txt', 'text1.txt', 'text_copy.txt', 'word2.py', 'words.py', '__pycache__']\n"
     ]
    }
   ],
   "source": [
    "print(os.listdir()) # remove directory"
   ]
  },
  {
   "cell_type": "code",
   "execution_count": 18,
   "metadata": {},
   "outputs": [
    {
     "name": "stdout",
     "output_type": "stream",
     "text": [
      "os.stat_result(st_mode=33206, st_ino=8725724278075113, st_dev=1853700871, st_nlink=1, st_uid=0, st_gid=0, st_size=128, st_atime=1542216379, st_mtime=1542219043, st_ctime=1542216379)\n"
     ]
    }
   ],
   "source": [
    "print(os.stat('text.txt'))"
   ]
  },
  {
   "cell_type": "code",
   "execution_count": 22,
   "metadata": {},
   "outputs": [
    {
     "name": "stdout",
     "output_type": "stream",
     "text": [
      "current path: C:\\Users\\tanu agrawal\\Desktop\\100daysofcode\\PythonPractice\n",
      "directories: ['.ipynb_checkpoints', '__pycache__']\n",
      "files: ['Basic_Python.ipynb', 'filehandling.ipynb', 'iterables.ipynb', 'OS Module.ipynb', 'pic.png', 'pic_copy.png', 'regular expression.ipynb', 'root.py', 'root1.py', 'text', 'text.txt', 'text1.txt', 'text_copy.txt', 'word2.py', 'words.py']\n",
      "\n",
      "current path: C:\\Users\\tanu agrawal\\Desktop\\100daysofcode\\PythonPractice\\.ipynb_checkpoints\n",
      "directories: []\n",
      "files: ['Basic_Python-checkpoint.ipynb', 'filehandling-checkpoint.ipynb', 'iterables-checkpoint.ipynb', 'OS Module-checkpoint.ipynb', 'regular expression-checkpoint.ipynb']\n",
      "\n",
      "current path: C:\\Users\\tanu agrawal\\Desktop\\100daysofcode\\PythonPractice\\__pycache__\n",
      "directories: []\n",
      "files: ['word2.cpython-37.pyc', 'words.cpython-37.pyc']\n",
      "\n"
     ]
    }
   ],
   "source": [
    "for dirpath, dirnames, dirfiles in os.walk(os.getcwd()):# generator that yiels three set of tupples reprexenting directory tree\n",
    "    print('current path:',dirpath)\n",
    "    print('directories:',dirnames)\n",
    "    print('files:',dirfiles)\n",
    "    print()"
   ]
  },
  {
   "cell_type": "code",
   "execution_count": null,
   "metadata": {},
   "outputs": [],
   "source": []
  }
 ],
 "metadata": {
  "kernelspec": {
   "display_name": "Python 3",
   "language": "python",
   "name": "python3"
  },
  "language_info": {
   "codemirror_mode": {
    "name": "ipython",
    "version": 3
   },
   "file_extension": ".py",
   "mimetype": "text/x-python",
   "name": "python",
   "nbconvert_exporter": "python",
   "pygments_lexer": "ipython3",
   "version": "3.7.0"
  }
 },
 "nbformat": 4,
 "nbformat_minor": 2
}
