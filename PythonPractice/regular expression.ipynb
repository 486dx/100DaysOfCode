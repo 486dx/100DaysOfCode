{
 "cells": [
  {
   "cell_type": "markdown",
   "metadata": {},
   "source": [
    "# Regular Expression\n",
    "###### allows us to specific pattern of match"
   ]
  },
  {
   "cell_type": "code",
   "execution_count": 1,
   "metadata": {},
   "outputs": [
    {
     "name": "stdout",
     "output_type": "stream",
     "text": [
      "Help on built-in function compile in module builtins:\n",
      "\n",
      "compile(source, filename, mode, flags=0, dont_inherit=False, optimize=-1)\n",
      "    Compile source into a code object that can be executed by exec() or eval().\n",
      "    \n",
      "    The source code may represent a Python module, statement or expression.\n",
      "    The filename will be used for run-time error messages.\n",
      "    The mode must be 'exec' to compile a module, 'single' to compile a\n",
      "    single (interactive) statement, or 'eval' to compile an expression.\n",
      "    The flags argument, if present, controls which future statements influence\n",
      "    the compilation of the code.\n",
      "    The dont_inherit argument, if true, stops the compilation inheriting\n",
      "    the effects of any future statements in effect in the code calling\n",
      "    compile; if absent or false these statements do influence the compilation,\n",
      "    in addition to any features explicitly specified.\n",
      "\n"
     ]
    }
   ],
   "source": [
    "import re\n",
    "help(compile)# it compile REs into objects and then perform matches with them."
   ]
  },
  {
   "cell_type": "code",
   "execution_count": 21,
   "metadata": {},
   "outputs": [
    {
     "name": "stdout",
     "output_type": "stream",
     "text": [
      "<re.Match object; span=(25, 28), match='ghj'>\n",
      "<re.Match object; span=(65, 68), match='ghj'>\n"
     ]
    }
   ],
   "source": [
    "text=''' \n",
    "QWERTYYUIIOPFXCNBX asdfghjkcxvbnmcvbxgfhjmnb \\n\n",
    "1234567890\\n\n",
    "asdfghjk12345678\n",
    "ms.asdf\n",
    "Ms. sadsfgh\n",
    "anu@gmail.com\n",
    "$^%&^&***^%#@\n",
    "\n",
    "'''\n",
    "pattern=re.compile(r'ghj')\n",
    "match=pattern.finditer(text)\n",
    "for m in match:\n",
    "    print(m)"
   ]
  },
  {
   "cell_type": "code",
   "execution_count": 12,
   "metadata": {},
   "outputs": [
    {
     "name": "stdout",
     "output_type": "stream",
     "text": [
      "<re.Match object; span=(0, 1), match=' '>\n",
      "<re.Match object; span=(2, 3), match='Q'>\n",
      "<re.Match object; span=(3, 4), match='W'>\n",
      "<re.Match object; span=(4, 5), match='E'>\n",
      "<re.Match object; span=(5, 6), match='R'>\n",
      "<re.Match object; span=(6, 7), match='T'>\n",
      "<re.Match object; span=(7, 8), match='Y'>\n",
      "<re.Match object; span=(8, 9), match='Y'>\n",
      "<re.Match object; span=(9, 10), match='U'>\n",
      "<re.Match object; span=(10, 11), match='I'>\n",
      "<re.Match object; span=(11, 12), match='I'>\n",
      "<re.Match object; span=(12, 13), match='O'>\n",
      "<re.Match object; span=(13, 14), match='P'>\n",
      "<re.Match object; span=(14, 15), match='F'>\n",
      "<re.Match object; span=(15, 16), match='X'>\n",
      "<re.Match object; span=(16, 17), match='C'>\n",
      "<re.Match object; span=(17, 18), match='N'>\n",
      "<re.Match object; span=(18, 19), match='B'>\n",
      "<re.Match object; span=(19, 20), match='X'>\n",
      "<re.Match object; span=(20, 21), match=' '>\n",
      "<re.Match object; span=(21, 22), match='a'>\n",
      "<re.Match object; span=(22, 23), match='s'>\n",
      "<re.Match object; span=(23, 24), match='d'>\n",
      "<re.Match object; span=(24, 25), match='f'>\n",
      "<re.Match object; span=(25, 26), match='g'>\n",
      "<re.Match object; span=(26, 27), match='h'>\n",
      "<re.Match object; span=(27, 28), match='j'>\n",
      "<re.Match object; span=(28, 29), match='k'>\n",
      "<re.Match object; span=(29, 30), match='c'>\n",
      "<re.Match object; span=(30, 31), match='x'>\n",
      "<re.Match object; span=(31, 32), match='v'>\n",
      "<re.Match object; span=(32, 33), match='b'>\n",
      "<re.Match object; span=(33, 34), match='n'>\n",
      "<re.Match object; span=(34, 35), match='m'>\n",
      "<re.Match object; span=(35, 36), match='c'>\n",
      "<re.Match object; span=(36, 37), match='v'>\n",
      "<re.Match object; span=(37, 38), match='b'>\n",
      "<re.Match object; span=(38, 39), match='x'>\n",
      "<re.Match object; span=(39, 40), match='g'>\n",
      "<re.Match object; span=(40, 41), match='f'>\n",
      "<re.Match object; span=(41, 42), match='h'>\n",
      "<re.Match object; span=(42, 43), match='j'>\n",
      "<re.Match object; span=(43, 44), match='m'>\n",
      "<re.Match object; span=(44, 45), match='n'>\n",
      "<re.Match object; span=(45, 46), match='b'>\n",
      "<re.Match object; span=(46, 47), match=' '>\n",
      "<re.Match object; span=(49, 50), match='1'>\n",
      "<re.Match object; span=(50, 51), match='2'>\n",
      "<re.Match object; span=(51, 52), match='3'>\n",
      "<re.Match object; span=(52, 53), match='4'>\n",
      "<re.Match object; span=(53, 54), match='5'>\n",
      "<re.Match object; span=(54, 55), match='6'>\n",
      "<re.Match object; span=(55, 56), match='7'>\n",
      "<re.Match object; span=(56, 57), match='8'>\n",
      "<re.Match object; span=(57, 58), match='9'>\n",
      "<re.Match object; span=(58, 59), match='0'>\n",
      "<re.Match object; span=(61, 62), match='a'>\n",
      "<re.Match object; span=(62, 63), match='s'>\n",
      "<re.Match object; span=(63, 64), match='d'>\n",
      "<re.Match object; span=(64, 65), match='f'>\n",
      "<re.Match object; span=(65, 66), match='g'>\n",
      "<re.Match object; span=(66, 67), match='h'>\n",
      "<re.Match object; span=(67, 68), match='j'>\n",
      "<re.Match object; span=(68, 69), match='k'>\n",
      "<re.Match object; span=(69, 70), match='1'>\n",
      "<re.Match object; span=(70, 71), match='2'>\n",
      "<re.Match object; span=(71, 72), match='3'>\n",
      "<re.Match object; span=(72, 73), match='4'>\n",
      "<re.Match object; span=(73, 74), match='5'>\n",
      "<re.Match object; span=(74, 75), match='6'>\n",
      "<re.Match object; span=(75, 76), match='7'>\n",
      "<re.Match object; span=(76, 77), match='8'>\n",
      "<re.Match object; span=(78, 79), match='m'>\n",
      "<re.Match object; span=(79, 80), match='s'>\n",
      "<re.Match object; span=(80, 81), match='.'>\n",
      "<re.Match object; span=(81, 82), match='a'>\n",
      "<re.Match object; span=(82, 83), match='s'>\n",
      "<re.Match object; span=(83, 84), match='d'>\n",
      "<re.Match object; span=(84, 85), match='f'>\n",
      "<re.Match object; span=(86, 87), match='M'>\n",
      "<re.Match object; span=(87, 88), match='s'>\n",
      "<re.Match object; span=(88, 89), match='.'>\n",
      "<re.Match object; span=(89, 90), match=' '>\n",
      "<re.Match object; span=(90, 91), match='s'>\n",
      "<re.Match object; span=(91, 92), match='a'>\n",
      "<re.Match object; span=(92, 93), match='d'>\n",
      "<re.Match object; span=(93, 94), match='s'>\n",
      "<re.Match object; span=(94, 95), match='f'>\n",
      "<re.Match object; span=(95, 96), match='g'>\n",
      "<re.Match object; span=(96, 97), match='h'>\n",
      "<re.Match object; span=(98, 99), match='a'>\n",
      "<re.Match object; span=(99, 100), match='n'>\n",
      "<re.Match object; span=(100, 101), match='u'>\n",
      "<re.Match object; span=(101, 102), match='@'>\n",
      "<re.Match object; span=(102, 103), match='g'>\n",
      "<re.Match object; span=(103, 104), match='m'>\n",
      "<re.Match object; span=(104, 105), match='a'>\n",
      "<re.Match object; span=(105, 106), match='i'>\n",
      "<re.Match object; span=(106, 107), match='l'>\n",
      "<re.Match object; span=(107, 108), match='.'>\n",
      "<re.Match object; span=(108, 109), match='c'>\n",
      "<re.Match object; span=(109, 110), match='o'>\n",
      "<re.Match object; span=(110, 111), match='m'>\n",
      "<re.Match object; span=(112, 113), match='$'>\n",
      "<re.Match object; span=(113, 114), match='^'>\n",
      "<re.Match object; span=(114, 115), match='%'>\n",
      "<re.Match object; span=(115, 116), match='&'>\n",
      "<re.Match object; span=(116, 117), match='^'>\n",
      "<re.Match object; span=(117, 118), match='&'>\n",
      "<re.Match object; span=(118, 119), match='*'>\n",
      "<re.Match object; span=(119, 120), match='*'>\n",
      "<re.Match object; span=(120, 121), match='*'>\n",
      "<re.Match object; span=(121, 122), match='^'>\n",
      "<re.Match object; span=(122, 123), match='%'>\n",
      "<re.Match object; span=(123, 124), match='#'>\n",
      "<re.Match object; span=(124, 125), match='@'>\n"
     ]
    }
   ],
   "source": [
    "pattern=re.compile(r'.')# '.' is a special character and RE \n",
    "#meta characters=. ^ $ * + { } [ ] | ( ) ? need  to be escaped\n",
    "match=pattern.finditer(text)\n",
    "for m in match:\n",
    "    print(m)"
   ]
  },
  {
   "cell_type": "code",
   "execution_count": 13,
   "metadata": {},
   "outputs": [
    {
     "name": "stdout",
     "output_type": "stream",
     "text": [
      "<re.Match object; span=(80, 81), match='.'>\n",
      "<re.Match object; span=(88, 89), match='.'>\n",
      "<re.Match object; span=(107, 108), match='.'>\n"
     ]
    }
   ],
   "source": [
    "pattern=re.compile(r'\\.')# '.' is a special character and RE hence correct result can be find by converting into escape character\n",
    "match=pattern.finditer(text)\n",
    "for m in match:\n",
    "    print(m)"
   ]
  },
  {
   "cell_type": "code",
   "execution_count": 14,
   "metadata": {},
   "outputs": [
    {
     "name": "stdout",
     "output_type": "stream",
     "text": [
      "<re.Match object; span=(78, 85), match='ms.asdf'>\n"
     ]
    }
   ],
   "source": [
    "pattern=re.compile(r'ms\\.asdf') #\\dot operator accept  any character except new line \n",
    "match=pattern.finditer(text)\n",
    "for m in match:\n",
    "    print(m)"
   ]
  },
  {
   "cell_type": "code",
   "execution_count": 16,
   "metadata": {},
   "outputs": [
    {
     "name": "stdout",
     "output_type": "stream",
     "text": [
      "<re.Match object; span=(49, 50), match='1'>\n",
      "<re.Match object; span=(50, 51), match='2'>\n",
      "<re.Match object; span=(51, 52), match='3'>\n",
      "<re.Match object; span=(52, 53), match='4'>\n",
      "<re.Match object; span=(53, 54), match='5'>\n",
      "<re.Match object; span=(54, 55), match='6'>\n",
      "<re.Match object; span=(55, 56), match='7'>\n",
      "<re.Match object; span=(56, 57), match='8'>\n",
      "<re.Match object; span=(57, 58), match='9'>\n",
      "<re.Match object; span=(58, 59), match='0'>\n",
      "<re.Match object; span=(69, 70), match='1'>\n",
      "<re.Match object; span=(70, 71), match='2'>\n",
      "<re.Match object; span=(71, 72), match='3'>\n",
      "<re.Match object; span=(72, 73), match='4'>\n",
      "<re.Match object; span=(73, 74), match='5'>\n",
      "<re.Match object; span=(74, 75), match='6'>\n",
      "<re.Match object; span=(75, 76), match='7'>\n",
      "<re.Match object; span=(76, 77), match='8'>\n"
     ]
    }
   ],
   "source": [
    "pattern=re.compile(r'\\d') #\\d=digit {0 to 9}, \\D=not a digit\n",
    "match=pattern.finditer(text)\n",
    "for m in match:\n",
    "    print(m)"
   ]
  },
  {
   "cell_type": "code",
   "execution_count": 17,
   "metadata": {},
   "outputs": [],
   "source": [
    "#\\s=whitespace(newline tabs ,space)\n",
    "#\\w=wordcharacter(a-z,A-Z,0-9,_)\n",
    "\n"
   ]
  },
  {
   "cell_type": "code",
   "execution_count": 25,
   "metadata": {},
   "outputs": [
    {
     "name": "stdout",
     "output_type": "stream",
     "text": [
      "<re.Match object; span=(0, 3), match='asd'>\n"
     ]
    }
   ],
   "source": [
    "sen='asd asgsddghgx adfgsh fgh'\n",
    "\n",
    "pattern=re.compile(r'^asd')#beginning of string \n",
    "match=pattern.finditer(sen)\n",
    "for m in match:\n",
    "    print(m)"
   ]
  },
  {
   "cell_type": "code",
   "execution_count": 26,
   "metadata": {},
   "outputs": [
    {
     "name": "stdout",
     "output_type": "stream",
     "text": [
      "<re.Match object; span=(22, 25), match='fgh'>\n"
     ]
    }
   ],
   "source": [
    "pattern=re.compile(r'fgh$')#end of string \n",
    "match=pattern.finditer(sen)\n",
    "for m in match:\n",
    "    print(m)"
   ]
  },
  {
   "cell_type": "code",
   "execution_count": null,
   "metadata": {},
   "outputs": [],
   "source": []
  }
 ],
 "metadata": {
  "kernelspec": {
   "display_name": "Python 3",
   "language": "python",
   "name": "python3"
  },
  "language_info": {
   "codemirror_mode": {
    "name": "ipython",
    "version": 3
   },
   "file_extension": ".py",
   "mimetype": "text/x-python",
   "name": "python",
   "nbconvert_exporter": "python",
   "pygments_lexer": "ipython3",
   "version": "3.7.0"
  }
 },
 "nbformat": 4,
 "nbformat_minor": 2
}
