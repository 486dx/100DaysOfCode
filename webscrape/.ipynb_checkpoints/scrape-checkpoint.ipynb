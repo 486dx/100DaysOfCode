{
 "cells": [
  {
   "cell_type": "markdown",
   "metadata": {},
   "source": [
    "# web scraping using beautifulsoup4\n"
   ]
  },
  {
   "cell_type": "code",
   "execution_count": 4,
   "metadata": {},
   "outputs": [],
   "source": [
    "from bs4 import BeautifulSoup \n",
    "import requests # to fetch data from site\n",
    "html_file=requests.get('http://tanublog.pythonanywhere.com/')#fetch data from browser\n"
   ]
  },
  {
   "cell_type": "code",
   "execution_count": 5,
   "metadata": {},
   "outputs": [
    {
     "name": "stdout",
     "output_type": "stream",
     "text": [
      "\n",
      "<html>\n",
      "    <head>\n",
      "        <title>Tanu's blog</title>\n",
      "        <link rel=\"stylesheet\" href=\"//maxcdn.bootstrapcdn.com/bootstrap/3.2.0/css/bootstrap.min.css\">\n",
      "        <link rel=\"stylesheet\" href=\"//maxcdn.bootstrapcdn.com/bootstrap/3.2.0/css/bootstrap-theme.min.css\">\n",
      "        <link href=\"//fonts.googleapis.com/css?family=Lobster&subset=latin,latin-ext\" rel=\"stylesheet\" type=\"text/css\">\n",
      "        <link rel=\"stylesheet\" href=\"/static/css/blog.css\">\n",
      "    </head>\n",
      "    <body>\n",
      "        <div class=\"page-header\">\n",
      "            \n",
      "    \t\t<h1><a href=\"/\">Tanu's Blog</a></h1>\n",
      "\t\t</div>\n",
      "\n",
      "       <div class=\"content container\">\n",
      "    <div class=\"row\">\n",
      "        <div class=\"col-md-8\">\n",
      "            \n",
      "\n",
      "    \n",
      "        <div class=\"post\">\n",
      "            <div class=\"date\">\n",
      "                <p>published: Nov. 22, 2018, 9:11 p.m.</p>\n",
      "            </div>\n",
      "            <h2><a href=\"/post/1/\">A little about me</a></h2>\n",
      "            <p>Myself Tanu  Agrawal  from Mathura.<br />Currently i am pursuing for my b.tech degree in Computer Science And Engineering from B.I.ET. Jhansi.<br />My ambition is to make my parents feel proud on me.<br />My weakness is i get tensed easily <br />My strength are my parents.<br />That was all about me..<br />                                                                                                        thanks</p>\n",
      "        </div>\n",
      "    \n",
      "        <div class=\"post\">\n",
      "            <div class=\"date\">\n",
      "                <p>published: Nov. 22, 2018, 9:17 p.m.</p>\n",
      "            </div>\n",
      "            <h2><a href=\"/post/2/\">An introduction to Django</a></h2>\n",
      "            <p>Django is a web application framework written in Python programming language. It is based on MVT (Model View Template) design pattern. The Django is very demanding due to its rapid development feature.</p>\n",
      "        </div>\n",
      "    \n",
      "        <div class=\"post\">\n",
      "            <div class=\"date\">\n",
      "                <p>published: Nov. 22, 2018, 9:20 p.m.</p>\n",
      "            </div>\n",
      "            <h2><a href=\"/post/3/\">Computer science</a></h2>\n",
      "            <p>Computer science is the theory, experimentation, and engineering that form the basis for the design and use of computers. It involves the study of algorithms that process, store, and communicate digital information. A computer scientist specializes in the theory of computation and the design of computational systems.</p>\n",
      "        </div>\n",
      "    \n",
      "\n",
      "\n",
      "        </div>\n",
      "    </div>\n",
      "</div>\n",
      "    </body>\n",
      "</html>\n"
     ]
    }
   ],
   "source": [
    "print(html_file.text)"
   ]
  },
  {
   "cell_type": "code",
   "execution_count": 6,
   "metadata": {},
   "outputs": [
    {
     "name": "stdout",
     "output_type": "stream",
     "text": [
      "<html>\n",
      "<head>\n",
      "<title>Tanu's blog</title>\n",
      "<link href=\"//maxcdn.bootstrapcdn.com/bootstrap/3.2.0/css/bootstrap.min.css\" rel=\"stylesheet\"/>\n",
      "<link href=\"//maxcdn.bootstrapcdn.com/bootstrap/3.2.0/css/bootstrap-theme.min.css\" rel=\"stylesheet\"/>\n",
      "<link href=\"//fonts.googleapis.com/css?family=Lobster&amp;subset=latin,latin-ext\" rel=\"stylesheet\" type=\"text/css\"/>\n",
      "<link href=\"/static/css/blog.css\" rel=\"stylesheet\"/>\n",
      "</head>\n",
      "<body>\n",
      "<div class=\"page-header\">\n",
      "<h1><a href=\"/\">Tanu's Blog</a></h1>\n",
      "</div>\n",
      "<div class=\"content container\">\n",
      "<div class=\"row\">\n",
      "<div class=\"col-md-8\">\n",
      "<div class=\"post\">\n",
      "<div class=\"date\">\n",
      "<p>published: Nov. 22, 2018, 9:11 p.m.</p>\n",
      "</div>\n",
      "<h2><a href=\"/post/1/\">A little about me</a></h2>\n",
      "<p>Myself Tanu  Agrawal  from Mathura.<br/>Currently i am pursuing for my b.tech degree in Computer Science And Engineering from B.I.ET. Jhansi.<br/>My ambition is to make my parents feel proud on me.<br/>My weakness is i get tensed easily <br/>My strength are my parents.<br/>That was all about me..<br/>                                                                                                        thanks</p>\n",
      "</div>\n",
      "<div class=\"post\">\n",
      "<div class=\"date\">\n",
      "<p>published: Nov. 22, 2018, 9:17 p.m.</p>\n",
      "</div>\n",
      "<h2><a href=\"/post/2/\">An introduction to Django</a></h2>\n",
      "<p>Django is a web application framework written in Python programming language. It is based on MVT (Model View Template) design pattern. The Django is very demanding due to its rapid development feature.</p>\n",
      "</div>\n",
      "<div class=\"post\">\n",
      "<div class=\"date\">\n",
      "<p>published: Nov. 22, 2018, 9:20 p.m.</p>\n",
      "</div>\n",
      "<h2><a href=\"/post/3/\">Computer science</a></h2>\n",
      "<p>Computer science is the theory, experimentation, and engineering that form the basis for the design and use of computers. It involves the study of algorithms that process, store, and communicate digital information. A computer scientist specializes in the theory of computation and the design of computational systems.</p>\n",
      "</div>\n",
      "</div>\n",
      "</div>\n",
      "</div>\n",
      "</body>\n",
      "</html>\n"
     ]
    }
   ],
   "source": [
    "soup=BeautifulSoup(html_file.text,'lxml')\n",
    "print(soup)#without indentation"
   ]
  },
  {
   "cell_type": "code",
   "execution_count": 7,
   "metadata": {},
   "outputs": [
    {
     "name": "stdout",
     "output_type": "stream",
     "text": [
      "<html>\n",
      " <head>\n",
      "  <title>\n",
      "   Tanu's blog\n",
      "  </title>\n",
      "  <link href=\"//maxcdn.bootstrapcdn.com/bootstrap/3.2.0/css/bootstrap.min.css\" rel=\"stylesheet\"/>\n",
      "  <link href=\"//maxcdn.bootstrapcdn.com/bootstrap/3.2.0/css/bootstrap-theme.min.css\" rel=\"stylesheet\"/>\n",
      "  <link href=\"//fonts.googleapis.com/css?family=Lobster&amp;subset=latin,latin-ext\" rel=\"stylesheet\" type=\"text/css\"/>\n",
      "  <link href=\"/static/css/blog.css\" rel=\"stylesheet\"/>\n",
      " </head>\n",
      " <body>\n",
      "  <div class=\"page-header\">\n",
      "   <h1>\n",
      "    <a href=\"/\">\n",
      "     Tanu's Blog\n",
      "    </a>\n",
      "   </h1>\n",
      "  </div>\n",
      "  <div class=\"content container\">\n",
      "   <div class=\"row\">\n",
      "    <div class=\"col-md-8\">\n",
      "     <div class=\"post\">\n",
      "      <div class=\"date\">\n",
      "       <p>\n",
      "        published: Nov. 22, 2018, 9:11 p.m.\n",
      "       </p>\n",
      "      </div>\n",
      "      <h2>\n",
      "       <a href=\"/post/1/\">\n",
      "        A little about me\n",
      "       </a>\n",
      "      </h2>\n",
      "      <p>\n",
      "       Myself Tanu  Agrawal  from Mathura.\n",
      "       <br/>\n",
      "       Currently i am pursuing for my b.tech degree in Computer Science And Engineering from B.I.ET. Jhansi.\n",
      "       <br/>\n",
      "       My ambition is to make my parents feel proud on me.\n",
      "       <br/>\n",
      "       My weakness is i get tensed easily\n",
      "       <br/>\n",
      "       My strength are my parents.\n",
      "       <br/>\n",
      "       That was all about me..\n",
      "       <br/>\n",
      "       thanks\n",
      "      </p>\n",
      "     </div>\n",
      "     <div class=\"post\">\n",
      "      <div class=\"date\">\n",
      "       <p>\n",
      "        published: Nov. 22, 2018, 9:17 p.m.\n",
      "       </p>\n",
      "      </div>\n",
      "      <h2>\n",
      "       <a href=\"/post/2/\">\n",
      "        An introduction to Django\n",
      "       </a>\n",
      "      </h2>\n",
      "      <p>\n",
      "       Django is a web application framework written in Python programming language. It is based on MVT (Model View Template) design pattern. The Django is very demanding due to its rapid development feature.\n",
      "      </p>\n",
      "     </div>\n",
      "     <div class=\"post\">\n",
      "      <div class=\"date\">\n",
      "       <p>\n",
      "        published: Nov. 22, 2018, 9:20 p.m.\n",
      "       </p>\n",
      "      </div>\n",
      "      <h2>\n",
      "       <a href=\"/post/3/\">\n",
      "        Computer science\n",
      "       </a>\n",
      "      </h2>\n",
      "      <p>\n",
      "       Computer science is the theory, experimentation, and engineering that form the basis for the design and use of computers. It involves the study of algorithms that process, store, and communicate digital information. A computer scientist specializes in the theory of computation and the design of computational systems.\n",
      "      </p>\n",
      "     </div>\n",
      "    </div>\n",
      "   </div>\n",
      "  </div>\n",
      " </body>\n",
      "</html>\n"
     ]
    }
   ],
   "source": [
    "print(soup.prettify())#for indentation\n"
   ]
  },
  {
   "cell_type": "code",
   "execution_count": 8,
   "metadata": {},
   "outputs": [
    {
     "name": "stdout",
     "output_type": "stream",
     "text": [
      "\n",
      "\n",
      "Tanu's blog\n",
      "\n",
      "\n",
      "\n",
      "\n",
      "\n",
      "\n",
      "\n",
      "Tanu's Blog\n",
      "\n",
      "\n",
      "\n",
      "\n",
      "\n",
      "\n",
      "published: Nov. 22, 2018, 9:11 p.m.\n",
      "\n",
      "A little about me\n",
      "Myself Tanu  Agrawal  from Mathura.Currently i am pursuing for my b.tech degree in Computer Science And Engineering from B.I.ET. Jhansi.My ambition is to make my parents feel proud on me.My weakness is i get tensed easily My strength are my parents.That was all about me..                                                                                                        thanks\n",
      "\n",
      "\n",
      "\n",
      "published: Nov. 22, 2018, 9:17 p.m.\n",
      "\n",
      "An introduction to Django\n",
      "Django is a web application framework written in Python programming language. It is based on MVT (Model View Template) design pattern. The Django is very demanding due to its rapid development feature.\n",
      "\n",
      "\n",
      "\n",
      "published: Nov. 22, 2018, 9:20 p.m.\n",
      "\n",
      "Computer science\n",
      "Computer science is the theory, experimentation, and engineering that form the basis for the design and use of computers. It involves the study of algorithms that process, store, and communicate digital information. A computer scientist specializes in the theory of computation and the design of computational systems.\n",
      "\n",
      "\n",
      "\n",
      "\n",
      "\n",
      "\n"
     ]
    }
   ],
   "source": [
    "print(soup.text)#for printing text only without tags\n"
   ]
  },
  {
   "cell_type": "code",
   "execution_count": 9,
   "metadata": {},
   "outputs": [
    {
     "data": {
      "text/plain": [
       "[<h1><a href=\"/\">Tanu's Blog</a></h1>]"
      ]
     },
     "execution_count": 9,
     "metadata": {},
     "output_type": "execute_result"
    }
   ],
   "source": [
    "soup.select('h1')"
   ]
  },
  {
   "cell_type": "code",
   "execution_count": 10,
   "metadata": {},
   "outputs": [
    {
     "name": "stdout",
     "output_type": "stream",
     "text": [
      "Tanu's Blog\n"
     ]
    }
   ],
   "source": [
    "print(soup.h1.text)"
   ]
  },
  {
   "cell_type": "code",
   "execution_count": 11,
   "metadata": {},
   "outputs": [
    {
     "name": "stdout",
     "output_type": "stream",
     "text": [
      "<div class=\"page-header\">\n",
      "<h1><a href=\"/\">Tanu's Blog</a></h1>\n",
      "</div>\n"
     ]
    }
   ],
   "source": [
    "print(soup.div) #first div tag\n"
   ]
  },
  {
   "cell_type": "code",
   "execution_count": 12,
   "metadata": {},
   "outputs": [],
   "source": [
    "match=soup.find('div',class_='date')#only class has underscrore"
   ]
  },
  {
   "cell_type": "code",
   "execution_count": 13,
   "metadata": {},
   "outputs": [
    {
     "name": "stdout",
     "output_type": "stream",
     "text": [
      "<div class=\"date\">\n",
      "<p>published: Nov. 22, 2018, 9:11 p.m.</p>\n",
      "</div>\n"
     ]
    }
   ],
   "source": [
    "print(match)\n"
   ]
  },
  {
   "cell_type": "code",
   "execution_count": 14,
   "metadata": {},
   "outputs": [
    {
     "name": "stdout",
     "output_type": "stream",
     "text": [
      "published: Nov. 22, 2018, 9:11 p.m.\n"
     ]
    }
   ],
   "source": [
    "print(match.p.text)"
   ]
  },
  {
   "cell_type": "code",
   "execution_count": 15,
   "metadata": {},
   "outputs": [
    {
     "name": "stdout",
     "output_type": "stream",
     "text": [
      "<div class=\"page-header\">\n",
      "<h1><a href=\"/\">Tanu's Blog</a></h1>\n",
      "</div>\n",
      "None\n",
      "<div class=\"content container\">\n",
      "<div class=\"row\">\n",
      "<div class=\"col-md-8\">\n",
      "<div class=\"post\">\n",
      "<div class=\"date\">\n",
      "<p>published: Nov. 22, 2018, 9:11 p.m.</p>\n",
      "</div>\n",
      "<h2><a href=\"/post/1/\">A little about me</a></h2>\n",
      "<p>Myself Tanu  Agrawal  from Mathura.<br/>Currently i am pursuing for my b.tech degree in Computer Science And Engineering from B.I.ET. Jhansi.<br/>My ambition is to make my parents feel proud on me.<br/>My weakness is i get tensed easily <br/>My strength are my parents.<br/>That was all about me..<br/>                                                                                                        thanks</p>\n",
      "</div>\n",
      "<div class=\"post\">\n",
      "<div class=\"date\">\n",
      "<p>published: Nov. 22, 2018, 9:17 p.m.</p>\n",
      "</div>\n",
      "<h2><a href=\"/post/2/\">An introduction to Django</a></h2>\n",
      "<p>Django is a web application framework written in Python programming language. It is based on MVT (Model View Template) design pattern. The Django is very demanding due to its rapid development feature.</p>\n",
      "</div>\n",
      "<div class=\"post\">\n",
      "<div class=\"date\">\n",
      "<p>published: Nov. 22, 2018, 9:20 p.m.</p>\n",
      "</div>\n",
      "<h2><a href=\"/post/3/\">Computer science</a></h2>\n",
      "<p>Computer science is the theory, experimentation, and engineering that form the basis for the design and use of computers. It involves the study of algorithms that process, store, and communicate digital information. A computer scientist specializes in the theory of computation and the design of computational systems.</p>\n",
      "</div>\n",
      "</div>\n",
      "</div>\n",
      "</div>\n",
      "<p>published: Nov. 22, 2018, 9:11 p.m.</p>\n",
      "<div class=\"row\">\n",
      "<div class=\"col-md-8\">\n",
      "<div class=\"post\">\n",
      "<div class=\"date\">\n",
      "<p>published: Nov. 22, 2018, 9:11 p.m.</p>\n",
      "</div>\n",
      "<h2><a href=\"/post/1/\">A little about me</a></h2>\n",
      "<p>Myself Tanu  Agrawal  from Mathura.<br/>Currently i am pursuing for my b.tech degree in Computer Science And Engineering from B.I.ET. Jhansi.<br/>My ambition is to make my parents feel proud on me.<br/>My weakness is i get tensed easily <br/>My strength are my parents.<br/>That was all about me..<br/>                                                                                                        thanks</p>\n",
      "</div>\n",
      "<div class=\"post\">\n",
      "<div class=\"date\">\n",
      "<p>published: Nov. 22, 2018, 9:17 p.m.</p>\n",
      "</div>\n",
      "<h2><a href=\"/post/2/\">An introduction to Django</a></h2>\n",
      "<p>Django is a web application framework written in Python programming language. It is based on MVT (Model View Template) design pattern. The Django is very demanding due to its rapid development feature.</p>\n",
      "</div>\n",
      "<div class=\"post\">\n",
      "<div class=\"date\">\n",
      "<p>published: Nov. 22, 2018, 9:20 p.m.</p>\n",
      "</div>\n",
      "<h2><a href=\"/post/3/\">Computer science</a></h2>\n",
      "<p>Computer science is the theory, experimentation, and engineering that form the basis for the design and use of computers. It involves the study of algorithms that process, store, and communicate digital information. A computer scientist specializes in the theory of computation and the design of computational systems.</p>\n",
      "</div>\n",
      "</div>\n",
      "</div>\n",
      "<p>published: Nov. 22, 2018, 9:11 p.m.</p>\n",
      "<div class=\"col-md-8\">\n",
      "<div class=\"post\">\n",
      "<div class=\"date\">\n",
      "<p>published: Nov. 22, 2018, 9:11 p.m.</p>\n",
      "</div>\n",
      "<h2><a href=\"/post/1/\">A little about me</a></h2>\n",
      "<p>Myself Tanu  Agrawal  from Mathura.<br/>Currently i am pursuing for my b.tech degree in Computer Science And Engineering from B.I.ET. Jhansi.<br/>My ambition is to make my parents feel proud on me.<br/>My weakness is i get tensed easily <br/>My strength are my parents.<br/>That was all about me..<br/>                                                                                                        thanks</p>\n",
      "</div>\n",
      "<div class=\"post\">\n",
      "<div class=\"date\">\n",
      "<p>published: Nov. 22, 2018, 9:17 p.m.</p>\n",
      "</div>\n",
      "<h2><a href=\"/post/2/\">An introduction to Django</a></h2>\n",
      "<p>Django is a web application framework written in Python programming language. It is based on MVT (Model View Template) design pattern. The Django is very demanding due to its rapid development feature.</p>\n",
      "</div>\n",
      "<div class=\"post\">\n",
      "<div class=\"date\">\n",
      "<p>published: Nov. 22, 2018, 9:20 p.m.</p>\n",
      "</div>\n",
      "<h2><a href=\"/post/3/\">Computer science</a></h2>\n",
      "<p>Computer science is the theory, experimentation, and engineering that form the basis for the design and use of computers. It involves the study of algorithms that process, store, and communicate digital information. A computer scientist specializes in the theory of computation and the design of computational systems.</p>\n",
      "</div>\n",
      "</div>\n",
      "<p>published: Nov. 22, 2018, 9:11 p.m.</p>\n",
      "<div class=\"post\">\n",
      "<div class=\"date\">\n",
      "<p>published: Nov. 22, 2018, 9:11 p.m.</p>\n",
      "</div>\n",
      "<h2><a href=\"/post/1/\">A little about me</a></h2>\n",
      "<p>Myself Tanu  Agrawal  from Mathura.<br/>Currently i am pursuing for my b.tech degree in Computer Science And Engineering from B.I.ET. Jhansi.<br/>My ambition is to make my parents feel proud on me.<br/>My weakness is i get tensed easily <br/>My strength are my parents.<br/>That was all about me..<br/>                                                                                                        thanks</p>\n",
      "</div>\n",
      "<p>published: Nov. 22, 2018, 9:11 p.m.</p>\n",
      "<div class=\"date\">\n",
      "<p>published: Nov. 22, 2018, 9:11 p.m.</p>\n",
      "</div>\n",
      "<p>published: Nov. 22, 2018, 9:11 p.m.</p>\n",
      "<div class=\"post\">\n",
      "<div class=\"date\">\n",
      "<p>published: Nov. 22, 2018, 9:17 p.m.</p>\n",
      "</div>\n",
      "<h2><a href=\"/post/2/\">An introduction to Django</a></h2>\n",
      "<p>Django is a web application framework written in Python programming language. It is based on MVT (Model View Template) design pattern. The Django is very demanding due to its rapid development feature.</p>\n",
      "</div>\n",
      "<p>published: Nov. 22, 2018, 9:17 p.m.</p>\n",
      "<div class=\"date\">\n",
      "<p>published: Nov. 22, 2018, 9:17 p.m.</p>\n",
      "</div>\n",
      "<p>published: Nov. 22, 2018, 9:17 p.m.</p>\n",
      "<div class=\"post\">\n",
      "<div class=\"date\">\n",
      "<p>published: Nov. 22, 2018, 9:20 p.m.</p>\n",
      "</div>\n",
      "<h2><a href=\"/post/3/\">Computer science</a></h2>\n",
      "<p>Computer science is the theory, experimentation, and engineering that form the basis for the design and use of computers. It involves the study of algorithms that process, store, and communicate digital information. A computer scientist specializes in the theory of computation and the design of computational systems.</p>\n",
      "</div>\n",
      "<p>published: Nov. 22, 2018, 9:20 p.m.</p>\n",
      "<div class=\"date\">\n",
      "<p>published: Nov. 22, 2018, 9:20 p.m.</p>\n",
      "</div>\n",
      "<p>published: Nov. 22, 2018, 9:20 p.m.</p>\n"
     ]
    }
   ],
   "source": [
    "for post in soup.find_all('div'):\n",
    "\tprint(post)\n",
    "\tmatch=(post.p)\n",
    "\tprint(match)"
   ]
  },
  {
   "cell_type": "code",
   "execution_count": 31,
   "metadata": {},
   "outputs": [
    {
     "name": "stdout",
     "output_type": "stream",
     "text": [
      "\n",
      "\n",
      "published: Nov. 22, 2018, 9:11 p.m.\n",
      "\n",
      "A little about me\n",
      "Myself Tanu  Agrawal  from Mathura.Currently i am pursuing for my b.tech degree in Computer Science And Engineering from B.I.ET. Jhansi.My ambition is to make my parents feel proud on me.My weakness is i get tensed easily My strength are my parents.That was all about me..                                                                                                        thanks\n",
      "\n"
     ]
    }
   ],
   "source": [
    "match=soup.find('div',class_='post')\n",
    "print(match.text)"
   ]
  },
  {
   "cell_type": "code",
   "execution_count": 32,
   "metadata": {},
   "outputs": [
    {
     "name": "stdout",
     "output_type": "stream",
     "text": [
      "\n",
      "\n",
      "published: Nov. 22, 2018, 9:11 p.m.\n",
      "\n",
      "A little about me\n",
      "Myself Tanu  Agrawal  from Mathura.Currently i am pursuing for my b.tech degree in Computer Science And Engineering from B.I.ET. Jhansi.My ambition is to make my parents feel proud on me.My weakness is i get tensed easily My strength are my parents.That was all about me..                                                                                                        thanks\n",
      "\n"
     ]
    }
   ],
   "source": [
    "print(match.text)"
   ]
  },
  {
   "cell_type": "code",
   "execution_count": 33,
   "metadata": {},
   "outputs": [],
   "source": [
    "#for printing date of  first post\n",
    "date=match.find('div', class_='date').p.text"
   ]
  },
  {
   "cell_type": "code",
   "execution_count": 34,
   "metadata": {},
   "outputs": [
    {
     "name": "stdout",
     "output_type": "stream",
     "text": [
      "published: Nov. 22, 2018, 9:11 p.m.\n"
     ]
    }
   ],
   "source": [
    "print(date)"
   ]
  },
  {
   "cell_type": "code",
   "execution_count": 56,
   "metadata": {},
   "outputs": [
    {
     "name": "stdout",
     "output_type": "stream",
     "text": [
      "published: Nov. 22, 2018, 9:11 p.m.\n",
      "heading of post\n",
      "A little about me\n",
      "\n",
      "published: Nov. 22, 2018, 9:17 p.m.\n",
      "heading of post\n",
      "An introduction to Django\n",
      "\n",
      "published: Nov. 22, 2018, 9:20 p.m.\n",
      "heading of post\n",
      "Computer science\n",
      "\n"
     ]
    }
   ],
   "source": [
    "for post in soup.find_all('div',class_='post'): # dates of all the post\n",
    "    date=post.find('div', class_='date').p.text\n",
    "    print(date)\n",
    "    heading=post.find('h2').text\n",
    "  \n",
    "    print(\"heading of post\")\n",
    "   \n",
    "    print(heading)\n",
    "    print()"
   ]
  },
  {
   "cell_type": "code",
   "execution_count": null,
   "metadata": {},
   "outputs": [],
   "source": []
  },
  {
   "cell_type": "code",
   "execution_count": null,
   "metadata": {},
   "outputs": [],
   "source": []
  }
 ],
 "metadata": {
  "kernelspec": {
   "display_name": "Python 3",
   "language": "python",
   "name": "python3"
  },
  "language_info": {
   "codemirror_mode": {
    "name": "ipython",
    "version": 3
   },
   "file_extension": ".py",
   "mimetype": "text/x-python",
   "name": "python",
   "nbconvert_exporter": "python",
   "pygments_lexer": "ipython3",
   "version": "3.7.0"
  }
 },
 "nbformat": 4,
 "nbformat_minor": 2
}
